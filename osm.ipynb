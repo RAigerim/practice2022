{
 "cells": [
  {
   "cell_type": "markdown",
   "metadata": {},
   "source": [
    "# OSM"
   ]
  },
  {
   "cell_type": "code",
   "execution_count": null,
   "metadata": {},
   "outputs": [],
   "source": [
    "from geopy.geocoders import Nominatim\n",
    "import sqlalchemy\n",
    "import geocoder\n",
    "import pandas as pd\n",
    "import numpy as np\n",
    "from time import sleep\n",
    "\n",
    "geolocator = Nominatim(user_agent='osm', timeout=60)\n",
    "server_name = ''\n",
    "\n",
    "conn = sqlalchemy.create_engine(\n",
    "    f'mssql+pyodbc://'+server_name+'/kazakhstan?trusted_connection=yes&driver=ODBC Driver 17 for SQL Server')"
   ]
  },
  {
   "cell_type": "code",
   "execution_count": null,
   "metadata": {},
   "outputs": [],
   "source": [
    "q = \"\"\"select one.id, one.name_rus as town,\n",
    "            three.name_rus + ' ' + lower(t.value_ru) as county from ats one\n",
    "            left join ats two on one.parent_id = two.id\n",
    "            left join ats three on two.parent_id = three.id\n",
    "            left join ats_types t on three.d_ats_type_id = t.id\n",
    "            where one.cato like '43%'\n",
    "            and one.id in (select id from kyzylorda_ob_ats_osm\n",
    "            where state = 'nan')\n",
    "            order by one.id\"\"\"\n",
    "\n",
    "df = pd.read_sql_query(q, conn)"
   ]
  },
  {
   "cell_type": "code",
   "execution_count": null,
   "metadata": {},
   "outputs": [],
   "source": [
    "df['county'] = ['Кызылординская область' if df.loc[i, 'county'] in ('Казахстан республика', None) \n",
    "                else df.loc[i, 'county'] for i in list(df.index)]\n",
    "df['town'] = ['' if df.loc[i, 'town'] == 'Кызылординская' else df.loc[i, 'town'] for i in list(df.index)]\n",
    "df['county'] = ['Кызылорда' if 'город областного значения' in df.loc[i, 'county'] \n",
    "                else df.loc[i, 'county'] for i in list(df.index)]\n",
    "df['town'] = [i.replace('ский', '') for i in df['town']]"
   ]
  },
  {
   "cell_type": "code",
   "execution_count": null,
   "metadata": {},
   "outputs": [],
   "source": [
    "# df['name_rus'] = [df.loc[i, 'name_rus'].split(' ')[-1] for i in list(df.index)]\n",
    "df['name_rus'] = [df.loc[i, 'name_rus'].split(' ')[-1] if df.loc[i, 'name_rus'][-2:] in ('ов', 'ва', 'ев') \n",
    "                  else df.loc[i, 'name_rus'] for i in list(df.index)]"
   ]
  },
  {
   "cell_type": "code",
   "execution_count": null,
   "metadata": {},
   "outputs": [],
   "source": [
    "df.head()"
   ]
  },
  {
   "cell_type": "code",
   "execution_count": null,
   "metadata": {},
   "outputs": [],
   "source": [
    "from geopy.point import Point\n",
    "def get_osm(i, df):\n",
    "    full_address = df.loc[i, 'town'] + ', ' + df.loc[i, 'county']\n",
    "    g = geolocator.geocode(full_address, \n",
    "                       addressdetails=True, language='ru', country_codes='KAZ')\n",
    "    return g.raw if pd.notnull(g) else np.nan"
   ]
  },
  {
   "cell_type": "code",
   "execution_count": null,
   "metadata": {},
   "outputs": [],
   "source": [
    "cols = ['id', 'osm_type', 'lat', 'lng', 'class', 'type', 'hamlet', 'village', \n",
    "        'town', 'county', 'state', 'city', 'postcode', 'country_code']"
   ]
  },
  {
   "cell_type": "code",
   "execution_count": null,
   "metadata": {
    "scrolled": true
   },
   "outputs": [],
   "source": [
    "table_name = 'kyz_ats2'\n",
    "\n",
    "dtype = {\n",
    "    'id': sqlalchemy.types.NVARCHAR(),\n",
    "    'osm_type': sqlalchemy.types.NVARCHAR(),\n",
    "    'lat': sqlalchemy.types.NVARCHAR(),\n",
    "    'lng': sqlalchemy.types.NVARCHAR(),\n",
    "    'class': sqlalchemy.types.NVARCHAR(),\n",
    "    'type': sqlalchemy.types.NVARCHAR(),\n",
    "    'village': sqlalchemy.types.NVARCHAR(),\n",
    "    'hamlet': sqlalchemy.types.NVARCHAR(),\n",
    "    'town': sqlalchemy.types.NVARCHAR(),\n",
    "    'county': sqlalchemy.types.NVARCHAR(),\n",
    "    'state': sqlalchemy.types.NVARCHAR(),\n",
    "    'city': sqlalchemy.types.NVARCHAR(),\n",
    "    'postcode': sqlalchemy.types.NVARCHAR(),\n",
    "    'country_code': sqlalchemy.types.NVARCHAR()\n",
    "}\n",
    "\n",
    "for i in list(df.index):\n",
    "    geocode = get_osm(i, df)\n",
    "    geocoded_df = pd.DataFrame(columns=cols, dtype='object')\n",
    "    geocoded_df.loc[i, 'id'] = df.loc[i, 'id']\n",
    "    if pd.isnull(geocode):\n",
    "        geocoded_df.astype(str).to_sql(table_name, conn, if_exists='append', index=False, dtype=dtype)\n",
    "        print(i, geocoded_df.loc[i, 'id'])\n",
    "        continue\n",
    "    geocoded_df.loc[i, 'osm_type'] = geocode['osm_type']\n",
    "    geocoded_df.loc[i, 'lat'] = geocode['lat']\n",
    "    geocoded_df.loc[i, 'lng'] = geocode['lon']\n",
    "    geocoded_df.loc[i, 'class'] = geocode['class']\n",
    "    geocoded_df.loc[i, 'type'] = geocode['type']\n",
    "    if 'hamlet' in geocode['address'].keys():\n",
    "        geocoded_df.loc[i, 'hamlet'] = geocode['address']['hamlet']\n",
    "    if 'village' in geocode['address'].keys():\n",
    "        geocoded_df.loc[i, 'village'] = geocode['address']['village']\n",
    "#     if 'road' in geocode['address'].keys():\n",
    "#         geocoded_df.loc[i, 'road'] = geocode['address']['road']\n",
    "#         if 'building' in geocode['address'].keys() and not f['address']['building'].isdigit():\n",
    "#             geocoded_df.loc[i, 'road'] += ' ' + geocode['address']['building']\n",
    "    if 'town' in geocode['address'].keys():\n",
    "        geocoded_df.loc[i, 'town'] = geocode['address']['town']\n",
    "    if 'county' in geocode['address'].keys():\n",
    "        geocoded_df.loc[i, 'county'] = geocode['address']['county']\n",
    "    if 'state' in geocode['address'].keys():\n",
    "        geocoded_df.loc[i, 'state'] = geocode['address']['state']\n",
    "    if 'city' in geocode['address'].keys():\n",
    "        geocoded_df.loc[i, 'city'] = geocode['address']['city']\n",
    "    if 'postcode' in geocode['address'].keys():\n",
    "        geocoded_df.loc[i, 'postcode'] = geocode['address']['postcode']\n",
    "    if 'country_code' in geocode['address'].keys():\n",
    "        geocoded_df.loc[i, 'country_code'] = geocode['address']['country_code']\n",
    "        \n",
    "    geocoded_df.astype(str).to_sql(table_name, conn, if_exists='append', index=False, dtype=dtype)\n",
    "    print(i, geocoded_df.loc[i, 'id'])\n",
    "    sleep(1)"
   ]
  },
  {
   "cell_type": "code",
   "execution_count": null,
   "metadata": {},
   "outputs": [],
   "source": [
    "df = df[df.index > 40]"
   ]
  },
  {
   "cell_type": "code",
   "execution_count": null,
   "metadata": {},
   "outputs": [],
   "source": [
    "q = \"\"\"select one.id, one.name_rus as town,\n",
    "            three.name_rus + ' ' + lower(t.value_ru) as county from ats one\n",
    "            left join ats two on one.parent_id = two.id\n",
    "            left join ats three on two.parent_id = three.id\n",
    "            left join ats_types t on three.d_ats_type_id = t.id\n",
    "            where one.cato like '43%'\n",
    "            and one.id in (select id from kyzylorda_ats\n",
    "            where lat =  'nan')\n",
    "            order by one.id\"\"\"\n",
    "df = pd.read_sql_query(q, conn)\n",
    "\n",
    "# q2 = \"\"\"select *from kyzylorda_ob_ats_osm\"\"\"\n",
    "# ats = pd.read_sql_query(q2, conn)"
   ]
  }
 ],
 "metadata": {
  "kernelspec": {
   "display_name": "Python 3",
   "language": "python",
   "name": "python3"
  },
  "language_info": {
   "codemirror_mode": {
    "name": "ipython",
    "version": 3
   },
   "file_extension": ".py",
   "mimetype": "text/x-python",
   "name": "python",
   "nbconvert_exporter": "python",
   "pygments_lexer": "ipython3",
   "version": "3.7.11"
  }
 },
 "nbformat": 4,
 "nbformat_minor": 4
}
